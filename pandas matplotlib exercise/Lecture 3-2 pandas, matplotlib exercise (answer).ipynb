{
 "cells": [
  {
   "cell_type": "markdown",
   "metadata": {},
   "source": [
    "<center>\n",
    "# Pandas, Matplotlib exercise\n",
    "</center>\n",
    "**Due** : 2018-03-13 20:29:59"
   ]
  },
  {
   "cell_type": "code",
   "execution_count": 1,
   "metadata": {},
   "outputs": [],
   "source": [
    "import numpy as np\n",
    "import pandas as pd\n",
    "import matplotlib.pyplot as plt"
   ]
  },
  {
   "cell_type": "markdown",
   "metadata": {},
   "source": [
    "> **Warning**\n",
    "\n",
    "> * <font color='red'> Do not use other packages except for `numpy`, `pandas`, `matplotlib` </font>\n",
    "\n",
    "> * <font color='red'> Do not modify other code except for `YOUR CODE HERE` </font>"
   ]
  },
  {
   "cell_type": "markdown",
   "metadata": {},
   "source": [
    "## Problem 1\n",
    "\n",
    "(1) 연초부터 1년간 투자할 때 연말에 발생하는 수익금액의 분포가 평균 0, 표준편차 1의 정규분포인 투자안이 있다. 이 투자안을 10년간 매년 반복 투자했을 때, 10년 뒤 투자수익금액의 합계를 몬테카를로 시뮬레이션으로 생성할 수 있다. 이를 N(=100000)회  반복한 결과의 평균과 표준편차를 계산하고 출력하시오.\n",
    "\n",
    "> **Warning**\n",
    "\n",
    "> * <font color='red'> for문이나 while문을 사용하지 말고 numpy, pandas, matplotlib 패키지만 사용하시오 </font>"
   ]
  },
  {
   "cell_type": "code",
   "execution_count": 2,
   "metadata": {},
   "outputs": [],
   "source": [
    "def invest_sim(N=100000):\n",
    "    \n",
    "    #################################\n",
    "    #         YOUR CODE HERE        #\n",
    "    # payoff_array : 1d numpy array #\n",
    "    #################################\n",
    "    payoff_array = np.random.randn(N,10).sum(1)\n",
    "    \n",
    "    return payoff_array"
   ]
  },
  {
   "cell_type": "code",
   "execution_count": 3,
   "metadata": {},
   "outputs": [
    {
     "name": "stdout",
     "output_type": "stream",
     "text": [
      "AVG : -0.006331257552703287\n",
      "STD : 3.1596227442570872\n"
     ]
    }
   ],
   "source": [
    "payoff_array = invest_sim()\n",
    "print('AVG : ' + str(payoff_array.mean()))\n",
    "print('STD : ' + str(payoff_array.std()))"
   ]
  },
  {
   "cell_type": "markdown",
   "metadata": {},
   "source": [
    "(2) 위의 투자안에 매년 투자를 유지하다가 (최대 100년) 연말에 누적 투자 수익이 2 이상 손실이면 폐업할 계획이다. 사업 유지 기간(년)을 몬테카를로 시뮬레이션으로 구하고 히스토그램(bin 개수 = 100)으로 도시하시오. 그리고 100년간 살아남은 경우의 개수를 출력하시오. (N=100000)\n",
    "\n",
    "> **Warning**\n",
    "\n",
    "> * <font color='red'> for문이나 while문을 사용하지 말고 numpy, pandas, matplotlib 패키지만 사용하시오 </font>\n"
   ]
  },
  {
   "cell_type": "code",
   "execution_count": 4,
   "metadata": {},
   "outputs": [],
   "source": [
    "def invest_survive(N=100000, T=100):\n",
    "    \n",
    "    ##########################################\n",
    "    #              YOUR CODE HERE            #\n",
    "    # survival_period_array : 1d numpy array #\n",
    "    ##########################################\n",
    "    ret = np.random.randn(N,T)\n",
    "    table = ret.cumsum(axis=1) <= -2\n",
    "    temp = table*np.arange(1,T+1)\n",
    "    survival_period_array = np.where(temp==0, T, temp).min(1)\n",
    "    \n",
    "    return survival_period_array\n",
    "\n",
    "def count_survive(survival_period_array):\n",
    "  \n",
    "    ##################\n",
    "    # YOUR CODE HERE #\n",
    "    # count : int    #\n",
    "    ##################\n",
    "    count = (survival_period_array == 100).sum()\n",
    "\n",
    "    return count"
   ]
  },
  {
   "cell_type": "code",
   "execution_count": 28,
   "metadata": {},
   "outputs": [
    {
     "data": {
      "text/plain": [
       "array([[ 0.3471667 ,  0.85077676,  0.47246147,  0.18853193, -2.13509973,\n",
       "         0.90958176],\n",
       "       [-1.53276413,  1.18716928, -0.09241046, -0.46935342, -1.74935824,\n",
       "        -0.27924457],\n",
       "       [-0.9239884 , -1.07722433, -0.32177387, -0.6646829 , -0.43320672,\n",
       "         1.83515196],\n",
       "       [-0.4332099 ,  0.12383429,  1.27271779,  0.75768405,  0.77018042,\n",
       "        -0.04918628],\n",
       "       [ 1.63027713,  1.13789422, -0.38082461,  1.52922739,  0.80602581,\n",
       "        -0.29222687],\n",
       "       [-0.35239764, -0.2577149 ,  0.56429772, -1.28580239, -0.95434439,\n",
       "        -1.22038287],\n",
       "       [ 1.23407267, -0.8704744 , -1.0323896 ,  0.69449495, -0.11775131,\n",
       "        -0.09415458],\n",
       "       [-1.81692376,  2.67628068, -0.5000806 ,  0.54265335,  0.72186774,\n",
       "        -0.26057304],\n",
       "       [ 0.97927016,  0.58558226, -1.54513072,  0.24605038, -1.06413493,\n",
       "         0.76503871],\n",
       "       [-1.17087726,  0.12685221,  1.22597615,  0.91622581,  0.14539129,\n",
       "         0.51473328]])"
      ]
     },
     "execution_count": 28,
     "metadata": {},
     "output_type": "execute_result"
    }
   ],
   "source": [
    "N = 10\n",
    "T =6\n",
    "ret = np.random.randn(N,T)\n",
    "ret"
   ]
  },
  {
   "cell_type": "code",
   "execution_count": 29,
   "metadata": {},
   "outputs": [
    {
     "data": {
      "text/plain": [
       "array([[False, False, False, False, False, False],\n",
       "       [False, False, False, False,  True,  True],\n",
       "       [False,  True,  True,  True,  True, False],\n",
       "       [False, False, False, False, False, False],\n",
       "       [False, False, False, False, False, False],\n",
       "       [False, False, False, False,  True,  True],\n",
       "       [False, False, False, False, False, False],\n",
       "       [False, False, False, False, False, False],\n",
       "       [False, False, False, False, False, False],\n",
       "       [False, False, False, False, False, False]])"
      ]
     },
     "execution_count": 29,
     "metadata": {},
     "output_type": "execute_result"
    }
   ],
   "source": [
    "table = ret.cumsum(axis=1) <= -2\n",
    "table"
   ]
  },
  {
   "cell_type": "code",
   "execution_count": 30,
   "metadata": {},
   "outputs": [
    {
     "data": {
      "text/plain": [
       "array([1, 2, 3, 4, 5, 6])"
      ]
     },
     "execution_count": 30,
     "metadata": {},
     "output_type": "execute_result"
    }
   ],
   "source": [
    "np.arange(1,T+1)"
   ]
  },
  {
   "cell_type": "code",
   "execution_count": 31,
   "metadata": {},
   "outputs": [
    {
     "data": {
      "text/plain": [
       "array([[0, 0, 0, 0, 0, 0],\n",
       "       [0, 0, 0, 0, 5, 6],\n",
       "       [0, 2, 3, 4, 5, 0],\n",
       "       [0, 0, 0, 0, 0, 0],\n",
       "       [0, 0, 0, 0, 0, 0],\n",
       "       [0, 0, 0, 0, 5, 6],\n",
       "       [0, 0, 0, 0, 0, 0],\n",
       "       [0, 0, 0, 0, 0, 0],\n",
       "       [0, 0, 0, 0, 0, 0],\n",
       "       [0, 0, 0, 0, 0, 0]])"
      ]
     },
     "execution_count": 31,
     "metadata": {},
     "output_type": "execute_result"
    }
   ],
   "source": [
    "temp = table*np.arange(1,T+1)\n",
    "temp"
   ]
  },
  {
   "cell_type": "code",
   "execution_count": 32,
   "metadata": {},
   "outputs": [
    {
     "data": {
      "text/plain": [
       "array([[6, 6, 6, 6, 6, 6],\n",
       "       [6, 6, 6, 6, 5, 6],\n",
       "       [6, 2, 3, 4, 5, 6],\n",
       "       [6, 6, 6, 6, 6, 6],\n",
       "       [6, 6, 6, 6, 6, 6],\n",
       "       [6, 6, 6, 6, 5, 6],\n",
       "       [6, 6, 6, 6, 6, 6],\n",
       "       [6, 6, 6, 6, 6, 6],\n",
       "       [6, 6, 6, 6, 6, 6],\n",
       "       [6, 6, 6, 6, 6, 6]])"
      ]
     },
     "execution_count": 32,
     "metadata": {},
     "output_type": "execute_result"
    }
   ],
   "source": [
    "np.where(temp==0, T, temp)"
   ]
  },
  {
   "cell_type": "code",
   "execution_count": 33,
   "metadata": {},
   "outputs": [
    {
     "data": {
      "text/plain": [
       "array([6, 5, 2, 6, 6, 5, 6, 6, 6, 6])"
      ]
     },
     "execution_count": 33,
     "metadata": {},
     "output_type": "execute_result"
    }
   ],
   "source": [
    "np.where(temp==0, T, temp).min(1)"
   ]
  },
  {
   "cell_type": "code",
   "execution_count": 11,
   "metadata": {
    "scrolled": true
   },
   "outputs": [
    {
     "data": {
      "image/png": "[encoded data removed]",
      "text/plain": [
       "<matplotlib.figure.Figure at 0xe9d3218ba8>"
      ]
     },
     "metadata": {},
     "output_type": "display_data"
    }
   ],
   "source": [
    "survival_period_array = invest_survive()\n",
    "plt.hist(survival_period_array, bins=100)\n",
    "plt.show()"
   ]
  },
  {
   "cell_type": "code",
   "execution_count": 12,
   "metadata": {},
   "outputs": [
    {
     "name": "stdout",
     "output_type": "stream",
     "text": [
      "number of survive 100 years : 20273\n"
     ]
    }
   ],
   "source": [
    "print('number of survive 100 years : %d'%(count_survive(survival_period_array)))"
   ]
  },
  {
   "cell_type": "markdown",
   "metadata": {},
   "source": [
    "## Problem 2\n",
    "\n",
    "Plain-vanilla 옵션의 블랙-숄즈 이론가격을 계산하는 함수를 구현하시오.\n",
    "\n",
    "**Black-Scholes 옵션 가격 공식:**\n",
    "$$\n",
    "    C = Se^{-qt}N(d_1) - Ke^{-rt}N(d_2) \\\\\n",
    "    P = Ke^{-rt}N(-d_2) - Se^{-qt}N(-d_1) \n",
    "$$\n",
    "where\n",
    "$$\n",
    "    d_1 = \\frac{\\log{(\\frac{S}{K})} + \\left(r-q+\\frac{1}{2}\\sigma^2\\right)t}{\\sigma\\sqrt{t}}\n",
    "$$\n",
    "* $S$ : 기초자산의 현재가격 (ex: 100)\n",
    "* $K$ : 행사가격 (ex: 100)\n",
    "* $r$ : 연속복리금리 (ex: 0.025)\n",
    "* $q$ : 연속배당률 (ex: 0.01)\n",
    "* $\\sigma$ : 연변동성 (ex: 0.25)\n",
    "* $t$ : 옵션의 연환산 잔여 만기 (ex: 0.24)\n",
    "\n",
    "> Hint : $N$은 누적 표준 정규 분포 함수 = `norm.cdf`"
   ]
  },
  {
   "cell_type": "code",
   "execution_count": 120,
   "metadata": {
    "collapsed": true
   },
   "outputs": [],
   "source": [
    "from scipy.stats import norm"
   ]
  },
  {
   "cell_type": "code",
   "execution_count": 124,
   "metadata": {
    "scrolled": true
   },
   "outputs": [],
   "source": [
    "def bsprice(S=100, K=100, r=0.025, q=0.01, sigma=0.25, t=0.24):\n",
    "        \n",
    "    ##################\n",
    "    # YOUR CODE HERE #\n",
    "    # price : dict   #\n",
    "    ##################\n",
    "    \n",
    "    d1 = (np.log(S/K) + (r - q + 0.5*sigma**2)*t)/(sigma*np.sqrt(t))\n",
    "    d2 = d1 - sigma*np.sqrt(t)\n",
    "    \n",
    "    # Call option price\n",
    "    C = (S*np.exp(-q*t)*norm.cdf(d1, 0.0, 1.0) \n",
    "        - K*np.exp(-r*t)*norm.cdf(d2, 0.0, 1.0))\n",
    "    \n",
    "    # Put option price\n",
    "    P = (K*np.exp(-r*t)*norm.cdf(-d2, 0.0, 1.0) \n",
    "        - S*np.exp(-q*t)*norm.cdf(-d1, 0.0, 1.0))\n",
    "\n",
    "    price = {'Call':C, 'Put':P}\n",
    "    \n",
    "    return price"
   ]
  },
  {
   "cell_type": "code",
   "execution_count": 125,
   "metadata": {},
   "outputs": [
    {
     "name": "stdout",
     "output_type": "stream",
     "text": [
      "Call : 5.043859\n",
      "Put  : 4.685368\n"
     ]
    }
   ],
   "source": [
    "price = bsprice()\n",
    "print('Call : %f'%(price['Call']))\n",
    "print('Put  : %f'%(price['Put']))"
   ]
  },
  {
   "cell_type": "markdown",
   "metadata": {},
   "source": [
    "## Problem 3\n",
    "\n",
    "[S&P500 index](https://www.marketwatch.com/investing/index/spx)는 미국 Standard and Poors(S&P)가 작성한 500개 종목의 주가 지수이다. S&P500 index는 물가 상승분을 반영하지 않아 실질 지수는 Consumer Price Index(CPI)로 할인해주어야 한다.\n",
    "만약 t 시점의 지수가 $x_t$라고 한다면, t 시점의 실질 지수(real index) $\\tilde{x}_t$와 실질 수익률 $r_t$는 다음과 같다."
   ]
  },
  {
   "cell_type": "markdown",
   "metadata": {},
   "source": [
    "$$\n",
    "    \\tilde{x_t} = \\frac{CPI_0}{CPI_t}x_t \\\\\n",
    "    r_t = \\frac{\\tilde{x_t}}{\\tilde{x_{t-1}}} - 1\n",
    "$$"
   ]
  },
  {
   "cell_type": "markdown",
   "metadata": {},
   "source": [
    "\n",
    "다음과 같이 DataFrame을 받아 \"real S&P500\", \"return\" 이 계산된 DataFrame을 생성하는 함수를 완성하시오. 그리고 \"S&P500\"과 \"real S&P500\"의 그래프를 그려 비교하시오.\n",
    "\n",
    "<img src=\"https://preview.ibb.co/j4HaDS/1.png\" alt=\"1\" border=\"0\">"
   ]
  },
  {
   "cell_type": "markdown",
   "metadata": {},
   "source": [
    "> Hint : [`shift`](https://pandas.pydata.org/pandas-docs/stable/generated/pandas.DataFrame.shift.html)를 사용하여 return을 구하시오"
   ]
  },
  {
   "cell_type": "code",
   "execution_count": 147,
   "metadata": {
    "scrolled": true
   },
   "outputs": [],
   "source": [
    "df = pd.read_csv('Lecture 3-2 pandas, matplotlib exercise.csv',\n",
    "                 index_col='Date')"
   ]
  },
  {
   "cell_type": "code",
   "execution_count": 139,
   "metadata": {},
   "outputs": [
    {
     "data": {
      "text/html": [
       "<div>\n",
       "<style scoped>\n",
       "    .dataframe tbody tr th:only-of-type {\n",
       "        vertical-align: middle;\n",
       "    }\n",
       "\n",
       "    .dataframe tbody tr th {\n",
       "        vertical-align: top;\n",
       "    }\n",
       "\n",
       "    .dataframe thead th {\n",
       "        text-align: right;\n",
       "    }\n",
       "</style>\n",
       "<table border=\"1\" class=\"dataframe\">\n",
       "  <thead>\n",
       "    <tr style=\"text-align: right;\">\n",
       "      <th></th>\n",
       "      <th>Date</th>\n",
       "      <th>S&amp;P500</th>\n",
       "      <th>CPI</th>\n",
       "    </tr>\n",
       "  </thead>\n",
       "  <tbody>\n",
       "    <tr>\n",
       "      <th>0</th>\n",
       "      <td>2013-04-01</td>\n",
       "      <td>1597.569946</td>\n",
       "      <td>231.797</td>\n",
       "    </tr>\n",
       "    <tr>\n",
       "      <th>1</th>\n",
       "      <td>2013-05-01</td>\n",
       "      <td>1630.739990</td>\n",
       "      <td>231.893</td>\n",
       "    </tr>\n",
       "    <tr>\n",
       "      <th>2</th>\n",
       "      <td>2013-06-01</td>\n",
       "      <td>1606.280029</td>\n",
       "      <td>232.445</td>\n",
       "    </tr>\n",
       "    <tr>\n",
       "      <th>3</th>\n",
       "      <td>2013-07-01</td>\n",
       "      <td>1685.729980</td>\n",
       "      <td>232.900</td>\n",
       "    </tr>\n",
       "    <tr>\n",
       "      <th>4</th>\n",
       "      <td>2013-08-01</td>\n",
       "      <td>1632.969971</td>\n",
       "      <td>233.456</td>\n",
       "    </tr>\n",
       "    <tr>\n",
       "      <th>5</th>\n",
       "      <td>2013-09-01</td>\n",
       "      <td>1681.550049</td>\n",
       "      <td>233.544</td>\n",
       "    </tr>\n",
       "    <tr>\n",
       "      <th>6</th>\n",
       "      <td>2013-10-01</td>\n",
       "      <td>1756.540039</td>\n",
       "      <td>233.669</td>\n",
       "    </tr>\n",
       "    <tr>\n",
       "      <th>7</th>\n",
       "      <td>2013-11-01</td>\n",
       "      <td>1805.810059</td>\n",
       "      <td>234.100</td>\n",
       "    </tr>\n",
       "    <tr>\n",
       "      <th>8</th>\n",
       "      <td>2013-12-01</td>\n",
       "      <td>1848.359985</td>\n",
       "      <td>234.719</td>\n",
       "    </tr>\n",
       "    <tr>\n",
       "      <th>9</th>\n",
       "      <td>2014-01-01</td>\n",
       "      <td>1782.589966</td>\n",
       "      <td>235.347</td>\n",
       "    </tr>\n",
       "    <tr>\n",
       "      <th>10</th>\n",
       "      <td>2014-02-01</td>\n",
       "      <td>1859.449951</td>\n",
       "      <td>235.522</td>\n",
       "    </tr>\n",
       "    <tr>\n",
       "      <th>11</th>\n",
       "      <td>2014-03-01</td>\n",
       "      <td>1872.339966</td>\n",
       "      <td>235.956</td>\n",
       "    </tr>\n",
       "    <tr>\n",
       "      <th>12</th>\n",
       "      <td>2014-04-01</td>\n",
       "      <td>1883.949951</td>\n",
       "      <td>236.463</td>\n",
       "    </tr>\n",
       "    <tr>\n",
       "      <th>13</th>\n",
       "      <td>2014-05-01</td>\n",
       "      <td>1923.569946</td>\n",
       "      <td>236.867</td>\n",
       "    </tr>\n",
       "    <tr>\n",
       "      <th>14</th>\n",
       "      <td>2014-06-01</td>\n",
       "      <td>1960.229980</td>\n",
       "      <td>237.188</td>\n",
       "    </tr>\n",
       "    <tr>\n",
       "      <th>15</th>\n",
       "      <td>2014-07-01</td>\n",
       "      <td>1930.670044</td>\n",
       "      <td>237.485</td>\n",
       "    </tr>\n",
       "    <tr>\n",
       "      <th>16</th>\n",
       "      <td>2014-08-01</td>\n",
       "      <td>2003.369995</td>\n",
       "      <td>237.439</td>\n",
       "    </tr>\n",
       "    <tr>\n",
       "      <th>17</th>\n",
       "      <td>2014-09-01</td>\n",
       "      <td>1972.290039</td>\n",
       "      <td>237.452</td>\n",
       "    </tr>\n",
       "    <tr>\n",
       "      <th>18</th>\n",
       "      <td>2014-10-01</td>\n",
       "      <td>2018.050049</td>\n",
       "      <td>237.447</td>\n",
       "    </tr>\n",
       "    <tr>\n",
       "      <th>19</th>\n",
       "      <td>2014-11-01</td>\n",
       "      <td>2067.560059</td>\n",
       "      <td>237.042</td>\n",
       "    </tr>\n",
       "    <tr>\n",
       "      <th>20</th>\n",
       "      <td>2014-12-01</td>\n",
       "      <td>2058.899902</td>\n",
       "      <td>236.270</td>\n",
       "    </tr>\n",
       "    <tr>\n",
       "      <th>21</th>\n",
       "      <td>2015-01-01</td>\n",
       "      <td>1994.989990</td>\n",
       "      <td>234.836</td>\n",
       "    </tr>\n",
       "    <tr>\n",
       "      <th>22</th>\n",
       "      <td>2015-02-01</td>\n",
       "      <td>2104.500000</td>\n",
       "      <td>235.274</td>\n",
       "    </tr>\n",
       "    <tr>\n",
       "      <th>23</th>\n",
       "      <td>2015-03-01</td>\n",
       "      <td>2067.889893</td>\n",
       "      <td>235.956</td>\n",
       "    </tr>\n",
       "    <tr>\n",
       "      <th>24</th>\n",
       "      <td>2015-04-01</td>\n",
       "      <td>2085.510010</td>\n",
       "      <td>236.165</td>\n",
       "    </tr>\n",
       "    <tr>\n",
       "      <th>25</th>\n",
       "      <td>2015-05-01</td>\n",
       "      <td>2107.389893</td>\n",
       "      <td>236.952</td>\n",
       "    </tr>\n",
       "    <tr>\n",
       "      <th>26</th>\n",
       "      <td>2015-06-01</td>\n",
       "      <td>2063.110107</td>\n",
       "      <td>237.618</td>\n",
       "    </tr>\n",
       "    <tr>\n",
       "      <th>27</th>\n",
       "      <td>2015-07-01</td>\n",
       "      <td>2103.840088</td>\n",
       "      <td>237.993</td>\n",
       "    </tr>\n",
       "    <tr>\n",
       "      <th>28</th>\n",
       "      <td>2015-08-01</td>\n",
       "      <td>1972.180054</td>\n",
       "      <td>237.989</td>\n",
       "    </tr>\n",
       "    <tr>\n",
       "      <th>29</th>\n",
       "      <td>2015-09-01</td>\n",
       "      <td>1920.030029</td>\n",
       "      <td>237.467</td>\n",
       "    </tr>\n",
       "    <tr>\n",
       "      <th>30</th>\n",
       "      <td>2015-10-01</td>\n",
       "      <td>2079.360107</td>\n",
       "      <td>237.764</td>\n",
       "    </tr>\n",
       "    <tr>\n",
       "      <th>31</th>\n",
       "      <td>2015-11-01</td>\n",
       "      <td>2080.409912</td>\n",
       "      <td>238.072</td>\n",
       "    </tr>\n",
       "    <tr>\n",
       "      <th>32</th>\n",
       "      <td>2015-12-01</td>\n",
       "      <td>2043.939941</td>\n",
       "      <td>237.827</td>\n",
       "    </tr>\n",
       "    <tr>\n",
       "      <th>33</th>\n",
       "      <td>2016-01-01</td>\n",
       "      <td>1940.239990</td>\n",
       "      <td>237.990</td>\n",
       "    </tr>\n",
       "    <tr>\n",
       "      <th>34</th>\n",
       "      <td>2016-02-01</td>\n",
       "      <td>1932.229980</td>\n",
       "      <td>237.532</td>\n",
       "    </tr>\n",
       "    <tr>\n",
       "      <th>35</th>\n",
       "      <td>2016-03-01</td>\n",
       "      <td>2059.739990</td>\n",
       "      <td>238.022</td>\n",
       "    </tr>\n",
       "    <tr>\n",
       "      <th>36</th>\n",
       "      <td>2016-04-01</td>\n",
       "      <td>2065.300049</td>\n",
       "      <td>238.843</td>\n",
       "    </tr>\n",
       "    <tr>\n",
       "      <th>37</th>\n",
       "      <td>2016-05-01</td>\n",
       "      <td>2096.949951</td>\n",
       "      <td>239.439</td>\n",
       "    </tr>\n",
       "    <tr>\n",
       "      <th>38</th>\n",
       "      <td>2016-06-01</td>\n",
       "      <td>2098.860107</td>\n",
       "      <td>240.074</td>\n",
       "    </tr>\n",
       "    <tr>\n",
       "      <th>39</th>\n",
       "      <td>2016-07-01</td>\n",
       "      <td>2173.600098</td>\n",
       "      <td>240.058</td>\n",
       "    </tr>\n",
       "    <tr>\n",
       "      <th>40</th>\n",
       "      <td>2016-08-01</td>\n",
       "      <td>2170.949951</td>\n",
       "      <td>240.569</td>\n",
       "    </tr>\n",
       "    <tr>\n",
       "      <th>41</th>\n",
       "      <td>2016-09-01</td>\n",
       "      <td>2168.270020</td>\n",
       "      <td>241.017</td>\n",
       "    </tr>\n",
       "    <tr>\n",
       "      <th>42</th>\n",
       "      <td>2016-10-01</td>\n",
       "      <td>2126.149902</td>\n",
       "      <td>241.667</td>\n",
       "    </tr>\n",
       "    <tr>\n",
       "      <th>43</th>\n",
       "      <td>2016-11-01</td>\n",
       "      <td>2198.810059</td>\n",
       "      <td>242.081</td>\n",
       "    </tr>\n",
       "    <tr>\n",
       "      <th>44</th>\n",
       "      <td>2016-12-01</td>\n",
       "      <td>2238.830078</td>\n",
       "      <td>242.784</td>\n",
       "    </tr>\n",
       "    <tr>\n",
       "      <th>45</th>\n",
       "      <td>2017-01-01</td>\n",
       "      <td>2278.870117</td>\n",
       "      <td>244.028</td>\n",
       "    </tr>\n",
       "    <tr>\n",
       "      <th>46</th>\n",
       "      <td>2017-02-01</td>\n",
       "      <td>2363.639893</td>\n",
       "      <td>244.102</td>\n",
       "    </tr>\n",
       "    <tr>\n",
       "      <th>47</th>\n",
       "      <td>2017-03-01</td>\n",
       "      <td>2362.719971</td>\n",
       "      <td>243.717</td>\n",
       "    </tr>\n",
       "    <tr>\n",
       "      <th>48</th>\n",
       "      <td>2017-04-01</td>\n",
       "      <td>2384.199951</td>\n",
       "      <td>244.087</td>\n",
       "    </tr>\n",
       "    <tr>\n",
       "      <th>49</th>\n",
       "      <td>2017-05-01</td>\n",
       "      <td>2411.800049</td>\n",
       "      <td>243.911</td>\n",
       "    </tr>\n",
       "    <tr>\n",
       "      <th>50</th>\n",
       "      <td>2017-06-01</td>\n",
       "      <td>2423.409912</td>\n",
       "      <td>244.032</td>\n",
       "    </tr>\n",
       "    <tr>\n",
       "      <th>51</th>\n",
       "      <td>2017-07-01</td>\n",
       "      <td>2470.300049</td>\n",
       "      <td>244.236</td>\n",
       "    </tr>\n",
       "    <tr>\n",
       "      <th>52</th>\n",
       "      <td>2017-08-01</td>\n",
       "      <td>2471.649902</td>\n",
       "      <td>245.262</td>\n",
       "    </tr>\n",
       "    <tr>\n",
       "      <th>53</th>\n",
       "      <td>2017-09-01</td>\n",
       "      <td>2519.360107</td>\n",
       "      <td>246.392</td>\n",
       "    </tr>\n",
       "    <tr>\n",
       "      <th>54</th>\n",
       "      <td>2017-10-01</td>\n",
       "      <td>2575.260010</td>\n",
       "      <td>246.583</td>\n",
       "    </tr>\n",
       "    <tr>\n",
       "      <th>55</th>\n",
       "      <td>2017-11-01</td>\n",
       "      <td>2647.580078</td>\n",
       "      <td>247.411</td>\n",
       "    </tr>\n",
       "    <tr>\n",
       "      <th>56</th>\n",
       "      <td>2017-12-01</td>\n",
       "      <td>2673.610107</td>\n",
       "      <td>247.910</td>\n",
       "    </tr>\n",
       "    <tr>\n",
       "      <th>57</th>\n",
       "      <td>2018-01-01</td>\n",
       "      <td>2823.810059</td>\n",
       "      <td>249.245</td>\n",
       "    </tr>\n",
       "  </tbody>\n",
       "</table>\n",
       "</div>"
      ],
      "text/plain": [
       "          Date       S&P500      CPI\n",
       "0   2013-04-01  1597.569946  231.797\n",
       "1   2013-05-01  1630.739990  231.893\n",
       "2   2013-06-01  1606.280029  232.445\n",
       "3   2013-07-01  1685.729980  232.900\n",
       "4   2013-08-01  1632.969971  233.456\n",
       "5   2013-09-01  1681.550049  233.544\n",
       "6   2013-10-01  1756.540039  233.669\n",
       "7   2013-11-01  1805.810059  234.100\n",
       "8   2013-12-01  1848.359985  234.719\n",
       "9   2014-01-01  1782.589966  235.347\n",
       "10  2014-02-01  1859.449951  235.522\n",
       "11  2014-03-01  1872.339966  235.956\n",
       "12  2014-04-01  1883.949951  236.463\n",
       "13  2014-05-01  1923.569946  236.867\n",
       "14  2014-06-01  1960.229980  237.188\n",
       "15  2014-07-01  1930.670044  237.485\n",
       "16  2014-08-01  2003.369995  237.439\n",
       "17  2014-09-01  1972.290039  237.452\n",
       "18  2014-10-01  2018.050049  237.447\n",
       "19  2014-11-01  2067.560059  237.042\n",
       "20  2014-12-01  2058.899902  236.270\n",
       "21  2015-01-01  1994.989990  234.836\n",
       "22  2015-02-01  2104.500000  235.274\n",
       "23  2015-03-01  2067.889893  235.956\n",
       "24  2015-04-01  2085.510010  236.165\n",
       "25  2015-05-01  2107.389893  236.952\n",
       "26  2015-06-01  2063.110107  237.618\n",
       "27  2015-07-01  2103.840088  237.993\n",
       "28  2015-08-01  1972.180054  237.989\n",
       "29  2015-09-01  1920.030029  237.467\n",
       "30  2015-10-01  2079.360107  237.764\n",
       "31  2015-11-01  2080.409912  238.072\n",
       "32  2015-12-01  2043.939941  237.827\n",
       "33  2016-01-01  1940.239990  237.990\n",
       "34  2016-02-01  1932.229980  237.532\n",
       "35  2016-03-01  2059.739990  238.022\n",
       "36  2016-04-01  2065.300049  238.843\n",
       "37  2016-05-01  2096.949951  239.439\n",
       "38  2016-06-01  2098.860107  240.074\n",
       "39  2016-07-01  2173.600098  240.058\n",
       "40  2016-08-01  2170.949951  240.569\n",
       "41  2016-09-01  2168.270020  241.017\n",
       "42  2016-10-01  2126.149902  241.667\n",
       "43  2016-11-01  2198.810059  242.081\n",
       "44  2016-12-01  2238.830078  242.784\n",
       "45  2017-01-01  2278.870117  244.028\n",
       "46  2017-02-01  2363.639893  244.102\n",
       "47  2017-03-01  2362.719971  243.717\n",
       "48  2017-04-01  2384.199951  244.087\n",
       "49  2017-05-01  2411.800049  243.911\n",
       "50  2017-06-01  2423.409912  244.032\n",
       "51  2017-07-01  2470.300049  244.236\n",
       "52  2017-08-01  2471.649902  245.262\n",
       "53  2017-09-01  2519.360107  246.392\n",
       "54  2017-10-01  2575.260010  246.583\n",
       "55  2017-11-01  2647.580078  247.411\n",
       "56  2017-12-01  2673.610107  247.910\n",
       "57  2018-01-01  2823.810059  249.245"
      ]
     },
     "execution_count": 139,
     "metadata": {},
     "output_type": "execute_result"
    }
   ],
   "source": [
    "df"
   ]
  },
  {
   "cell_type": "code",
   "execution_count": 126,
   "metadata": {
    "collapsed": true
   },
   "outputs": [],
   "source": [
    "def calc_real_return(df):\n",
    "        \n",
    "    #####################\n",
    "    #  YOUR CODE HERE   #\n",
    "    # df : pd.DataFrame #\n",
    "    #####################\n",
    "    df['real S&P500'] = df['S&P500']*df['CPI'][0]/df['CPI']\n",
    "    df['return'] = df['S&P500']/df['S&P500'].shift(1) - 1\n",
    "\n",
    "    return df"
   ]
  },
  {
   "cell_type": "code",
   "execution_count": 128,
   "metadata": {},
   "outputs": [
    {
     "data": {
      "image/png": "[encoded data removed]",
      "text/plain": [
       "<matplotlib.figure.Figure at 0x3e1a1400>"
      ]
     },
     "metadata": {},
     "output_type": "display_data"
    }
   ],
   "source": [
    "df_out = calc_real_return(df)\n",
    "df_out[['S&P500','real S&P500']].plot()\n",
    "plt.show()"
   ]
  }
 ],
 "metadata": {
  "kernelspec": {
   "display_name": "Python 3",
   "language": "python",
   "name": "python3"
  },
  "language_info": {
   "codemirror_mode": {
    "name": "ipython",
    "version": 3
   },
   "file_extension": ".py",
   "mimetype": "text/x-python",
   "name": "python",
   "nbconvert_exporter": "python",
   "pygments_lexer": "ipython3",
   "version": "3.6.4"
  }
 },
 "nbformat": 4,
 "nbformat_minor": 2
}
