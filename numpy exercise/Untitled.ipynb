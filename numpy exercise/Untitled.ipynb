{
 "cells": [
  {
   "cell_type": "code",
   "execution_count": 2,
   "metadata": {},
   "outputs": [],
   "source": [
    "import numpy as np\n",
    "import pandas as pd\n",
    "from pandas import read_csv"
   ]
  },
  {
   "cell_type": "code",
   "execution_count": 3,
   "metadata": {},
   "outputs": [],
   "source": [
    "ndarray=read_csv('Lecture 3-1 numpy exercise.csv').values"
   ]
  },
  {
   "cell_type": "code",
   "execution_count": 14,
   "metadata": {},
   "outputs": [
    {
     "data": {
      "text/plain": [
       "array([1.35709204, 1.51350849, 1.4958247 , 1.40346054, 2.07293221,\n",
       "       1.45391326, 1.26407973])"
      ]
     },
     "execution_count": 14,
     "metadata": {},
     "output_type": "execute_result"
    }
   ],
   "source": [
    "np.std(ndarray, axis=0)"
   ]
  },
  {
   "cell_type": "code",
   "execution_count": 12,
   "metadata": {},
   "outputs": [],
   "source": [
    "def calc_mean(ndarray):\n",
    "    mu=np.mean(ndarray, axis=0)\n",
    "    return mu\n",
    "    \n",
    "    "
   ]
  },
  {
   "cell_type": "code",
   "execution_count": 13,
   "metadata": {},
   "outputs": [
    {
     "data": {
      "text/plain": [
       "array([ 0.13845238,  0.15666667,  0.21464286, -0.13095238,  0.26142857,\n",
       "       -0.09297619,  0.19690476])"
      ]
     },
     "execution_count": 13,
     "metadata": {},
     "output_type": "execute_result"
    }
   ],
   "source": [
    "calc_mean(ndarray)"
   ]
  },
  {
   "cell_type": "code",
   "execution_count": 15,
   "metadata": {},
   "outputs": [],
   "source": [
    "def cal_std(ndarray):\n",
    "    std=np.std(ndarray, axis=0)\n",
    "    return std"
   ]
  },
  {
   "cell_type": "code",
   "execution_count": 16,
   "metadata": {
    "scrolled": true
   },
   "outputs": [
    {
     "data": {
      "text/plain": [
       "array([1.35709204, 1.51350849, 1.4958247 , 1.40346054, 2.07293221,\n",
       "       1.45391326, 1.26407973])"
      ]
     },
     "execution_count": 16,
     "metadata": {},
     "output_type": "execute_result"
    }
   ],
   "source": [
    "cal_std(ndarray)"
   ]
  },
  {
   "cell_type": "code",
   "execution_count": 49,
   "metadata": {},
   "outputs": [],
   "source": [
    "def calc_cov(ndarray):\n",
    "    cov=np.cov(ndarray, rowvar=False)\n",
    "    return cov\n",
    "    "
   ]
  },
  {
   "cell_type": "code",
   "execution_count": 50,
   "metadata": {},
   "outputs": [
    {
     "data": {
      "text/html": [
       "<div>\n",
       "<style scoped>\n",
       "    .dataframe tbody tr th:only-of-type {\n",
       "        vertical-align: middle;\n",
       "    }\n",
       "\n",
       "    .dataframe tbody tr th {\n",
       "        vertical-align: top;\n",
       "    }\n",
       "\n",
       "    .dataframe thead th {\n",
       "        text-align: right;\n",
       "    }\n",
       "</style>\n",
       "<table border=\"1\" class=\"dataframe\">\n",
       "  <thead>\n",
       "    <tr style=\"text-align: right;\">\n",
       "      <th></th>\n",
       "      <th>0</th>\n",
       "      <th>1</th>\n",
       "      <th>2</th>\n",
       "      <th>3</th>\n",
       "      <th>4</th>\n",
       "      <th>5</th>\n",
       "      <th>6</th>\n",
       "    </tr>\n",
       "  </thead>\n",
       "  <tbody>\n",
       "    <tr>\n",
       "      <th>0</th>\n",
       "      <td>1.863888</td>\n",
       "      <td>0.781608</td>\n",
       "      <td>0.599049</td>\n",
       "      <td>-0.067928</td>\n",
       "      <td>0.691135</td>\n",
       "      <td>0.154075</td>\n",
       "      <td>0.481883</td>\n",
       "    </tr>\n",
       "    <tr>\n",
       "      <th>1</th>\n",
       "      <td>0.781608</td>\n",
       "      <td>2.318307</td>\n",
       "      <td>1.773359</td>\n",
       "      <td>0.432669</td>\n",
       "      <td>0.137480</td>\n",
       "      <td>0.479473</td>\n",
       "      <td>1.133609</td>\n",
       "    </tr>\n",
       "    <tr>\n",
       "      <th>2</th>\n",
       "      <td>0.599049</td>\n",
       "      <td>1.773359</td>\n",
       "      <td>2.264449</td>\n",
       "      <td>0.493860</td>\n",
       "      <td>0.035301</td>\n",
       "      <td>0.076854</td>\n",
       "      <td>1.127423</td>\n",
       "    </tr>\n",
       "    <tr>\n",
       "      <th>3</th>\n",
       "      <td>-0.067928</td>\n",
       "      <td>0.432669</td>\n",
       "      <td>0.493860</td>\n",
       "      <td>1.993433</td>\n",
       "      <td>-0.804589</td>\n",
       "      <td>-0.409582</td>\n",
       "      <td>0.302799</td>\n",
       "    </tr>\n",
       "    <tr>\n",
       "      <th>4</th>\n",
       "      <td>0.691135</td>\n",
       "      <td>0.137480</td>\n",
       "      <td>0.035301</td>\n",
       "      <td>-0.804589</td>\n",
       "      <td>4.348820</td>\n",
       "      <td>0.842109</td>\n",
       "      <td>0.436150</td>\n",
       "    </tr>\n",
       "    <tr>\n",
       "      <th>5</th>\n",
       "      <td>0.154075</td>\n",
       "      <td>0.479473</td>\n",
       "      <td>0.076854</td>\n",
       "      <td>-0.409582</td>\n",
       "      <td>0.842109</td>\n",
       "      <td>2.139332</td>\n",
       "      <td>0.117499</td>\n",
       "    </tr>\n",
       "    <tr>\n",
       "      <th>6</th>\n",
       "      <td>0.481883</td>\n",
       "      <td>1.133609</td>\n",
       "      <td>1.127423</td>\n",
       "      <td>0.302799</td>\n",
       "      <td>0.436150</td>\n",
       "      <td>0.117499</td>\n",
       "      <td>1.617149</td>\n",
       "    </tr>\n",
       "  </tbody>\n",
       "</table>\n",
       "</div>"
      ],
      "text/plain": [
       "          0         1         2         3         4         5         6\n",
       "0  1.863888  0.781608  0.599049 -0.067928  0.691135  0.154075  0.481883\n",
       "1  0.781608  2.318307  1.773359  0.432669  0.137480  0.479473  1.133609\n",
       "2  0.599049  1.773359  2.264449  0.493860  0.035301  0.076854  1.127423\n",
       "3 -0.067928  0.432669  0.493860  1.993433 -0.804589 -0.409582  0.302799\n",
       "4  0.691135  0.137480  0.035301 -0.804589  4.348820  0.842109  0.436150\n",
       "5  0.154075  0.479473  0.076854 -0.409582  0.842109  2.139332  0.117499\n",
       "6  0.481883  1.133609  1.127423  0.302799  0.436150  0.117499  1.617149"
      ]
     },
     "execution_count": 50,
     "metadata": {},
     "output_type": "execute_result"
    }
   ],
   "source": [
    "pd.DataFrame(np.cov(ndarray, rowvar=False))"
   ]
  },
  {
   "cell_type": "code",
   "execution_count": 69,
   "metadata": {},
   "outputs": [],
   "source": [
    "w = np.array([0, 1, 0, 0, 0, 0, 0])"
   ]
  },
  {
   "cell_type": "code",
   "execution_count": 70,
   "metadata": {},
   "outputs": [],
   "source": [
    "def port_mean(ndarray, w):\n",
    "    mean=w.dot(calc_mean(ndarray).T)\n",
    "    return mean"
   ]
  },
  {
   "cell_type": "code",
   "execution_count": 71,
   "metadata": {},
   "outputs": [
    {
     "data": {
      "text/plain": [
       "0.15666666666666668"
      ]
     },
     "execution_count": 71,
     "metadata": {},
     "output_type": "execute_result"
    }
   ],
   "source": [
    "port_mean(ndarray, w)\n"
   ]
  },
  {
   "cell_type": "code",
   "execution_count": 73,
   "metadata": {},
   "outputs": [
    {
     "data": {
      "text/plain": [
       "array([1.35709204, 1.51350849, 1.4958247 , 1.40346054, 2.07293221,\n",
       "       1.45391326, 1.26407973])"
      ]
     },
     "execution_count": 73,
     "metadata": {},
     "output_type": "execute_result"
    }
   ],
   "source": [
    "cal_std(ndarray)"
   ]
  },
  {
   "cell_type": "code",
   "execution_count": 72,
   "metadata": {},
   "outputs": [
    {
     "data": {
      "text/plain": [
       "1.522598708560216"
      ]
     },
     "execution_count": 72,
     "metadata": {},
     "output_type": "execute_result"
    }
   ],
   "source": [
    "np.sqrt(w.dot(calc_cov(ndarray)).dot(w.T))"
   ]
  },
  {
   "cell_type": "code",
   "execution_count": null,
   "metadata": {},
   "outputs": [],
   "source": []
  }
 ],
 "metadata": {
  "kernelspec": {
   "display_name": "Python 3",
   "language": "python",
   "name": "python3"
  },
  "language_info": {
   "codemirror_mode": {
    "name": "ipython",
    "version": 3
   },
   "file_extension": ".py",
   "mimetype": "text/x-python",
   "name": "python",
   "nbconvert_exporter": "python",
   "pygments_lexer": "ipython3",
   "version": "3.6.4"
  }
 },
 "nbformat": 4,
 "nbformat_minor": 2
}
