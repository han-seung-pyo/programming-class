{
 "cells": [
  {
   "cell_type": "markdown",
   "metadata": {},
   "source": [
    "<center>\n",
    "# Numpy exercise\n",
    "</center>\n",
    "**Due** : ~ 2018-03-06 23:59:59"
   ]
  },
  {
   "cell_type": "code",
   "execution_count": null,
   "metadata": {
    "collapsed": true
   },
   "outputs": [],
   "source": [
    "import numpy as np"
   ]
  },
  {
   "cell_type": "markdown",
   "metadata": {},
   "source": [
    "> **Warning**\n",
    "\n",
    "> * <font color='red'> Do not use other packages except for `numpy` </font>\n",
    "\n",
    "> * <font color='red'> Do not modify other code except for `YOUR CODE HERE` </font>"
   ]
  },
  {
   "cell_type": "markdown",
   "metadata": {},
   "source": [
    "## Problem 1\n",
    "\n",
    "가로 1m, 세로 1m의 정사각형에 임의의 점 10개를 찍고, 찍힌 점을 순서대로 이어서 처음의 점으로 돌아오는 직선의 길이의 합을 구하시오. 동일한 시행을 총 100,000회 반복하고 평균값과 표준편차를 계산하시오. 100,000회의 시행으로 계산된 거리를 히스토그램 (bin의 개수는 100개)으로 도시하시오. (numpy.random 이용하기)\n",
    "\n",
    "<center>\n",
    "<img src=\"https://preview.ibb.co/dEQNhc/3.png\" alt=\"Drawing\" style=\"width: 400px;\"/>\n",
    "</center>\n"
   ]
  },
  {
   "cell_type": "code",
   "execution_count": 1,
   "metadata": {},
   "outputs": [],
   "source": [
    "def length_on_square(n):\n",
    "    t=[]\n",
    "    for k in np.arange(1,n+1):\n",
    "        x=[]\n",
    "        length=[]\n",
    "        for j in np.arange(1,11):\n",
    "            p=np.array([np.random.uniform(0,1),np.random.uniform(0,1)])\n",
    "            x.append(p)\n",
    "        for i in np.arange(1,11):\n",
    "            if i==0:\n",
    "                next\n",
    "            elif i==10:\n",
    "                l=np.sqrt((x[9][0]-x[0][0])**2+(x[9][1]-x[0][1])**2)\n",
    "            else:\n",
    "                l=np.sqrt((x[i][0]-x[i-1][0])**2+(x[i][1]-x[i-1][1])**2) \n",
    "            length.append(l)\n",
    "        lengthsum=np.cumsum(length)\n",
    "        t.append(lengthsum[9])\n",
    "    return t"
   ]
  },
  {
   "cell_type": "code",
   "execution_count": 5,
   "metadata": {
    "scrolled": true
   },
   "outputs": [
    {
     "name": "stdout",
     "output_type": "stream",
     "text": [
      "Wall time: 0 ns\n",
      "AVG : 5.211641801494878\n",
      "STD : 0.867315900314959\n"
     ]
    }
   ],
   "source": [
    "%time\n",
    "import numpy as np\n",
    "length_array = length_on_square(100000)\n",
    "print('AVG : ' + str(np.mean(length_array)))\n",
    "print('STD : ' + str(np.std(length_array)))"
   ]
  },
  {
   "cell_type": "code",
   "execution_count": 7,
   "metadata": {},
   "outputs": [
    {
     "data": {
      "image/png": "[encoded data removed]",
      "text/plain": [
       "<matplotlib.figure.Figure at 0x65fcc409e8>"
      ]
     },
     "metadata": {},
     "output_type": "display_data"
    }
   ],
   "source": [
    "import matplotlib.pyplot as plt\n",
    "\n",
    "plt.hist(length_array)\n",
    "plt.show()"
   ]
  },
  {
   "cell_type": "markdown",
   "metadata": {},
   "source": [
    "## Problem 2\n",
    "\n",
    "주가 일간 수익률 데이터 (csv 파일)를 읽어서 (list로 만들고, ndarray로 변환) 수익률의 평균, 표준편차, 분산-공분산행렬, 상관계수행렬 계산\n",
    "투자비중이 w인 포트폴리오의 기대수익률과 수익률의 표준편차를 numpy 행렬연산으로 계산\n"
   ]
  },
  {
   "cell_type": "code",
   "execution_count": 10,
   "metadata": {},
   "outputs": [],
   "source": [
    "from pandas import read_csv\n",
    "\n",
    "ndarray = read_csv('Lecture 3-1 numpy exercise.csv').values"
   ]
  },
  {
   "cell_type": "code",
   "execution_count": 11,
   "metadata": {
    "scrolled": true
   },
   "outputs": [],
   "source": [
    "def calc_mean(ndarray):\n",
    "    mean=np.mean(ndarray, axis=0)  \n",
    "    return mean"
   ]
  },
  {
   "cell_type": "code",
   "execution_count": 12,
   "metadata": {},
   "outputs": [],
   "source": [
    "def calc_std(ndarray):\n",
    "    std=np.std(ndarray, axis=0)\n",
    "    return std"
   ]
  },
  {
   "cell_type": "code",
   "execution_count": 13,
   "metadata": {},
   "outputs": [],
   "source": [
    "def calc_cov(ndarray):\n",
    "    cov=np.cov(ndarray, rowvar=False)\n",
    "    return cov"
   ]
  },
  {
   "cell_type": "code",
   "execution_count": 14,
   "metadata": {},
   "outputs": [
    {
     "name": "stdout",
     "output_type": "stream",
     "text": [
      "MEAN : [ 0.13845238  0.15666667  0.21464286 -0.13095238  0.26142857 -0.09297619\n",
      "  0.19690476]\n",
      "STD  : [1.35709204 1.51350849 1.4958247  1.40346054 2.07293221 1.45391326\n",
      " 1.26407973]\n"
     ]
    }
   ],
   "source": [
    "print('MEAN : '+ str(calc_mean(ndarray)))\n",
    "print('STD  : '+ str(calc_std(ndarray)))"
   ]
  },
  {
   "cell_type": "code",
   "execution_count": 18,
   "metadata": {
    "scrolled": true
   },
   "outputs": [
    {
     "name": "stdout",
     "output_type": "stream",
     "text": [
      "[[ 1.86388794  0.78160803  0.59904944 -0.067928    0.69113477  0.15407486\n",
      "   0.4818831 ]\n",
      " [ 0.78160803  2.31830683  1.77335904  0.43266908  0.13747952  0.47947309\n",
      "   1.13360884]\n",
      " [ 0.59904944  1.77335904  2.26444927  0.4938599   0.03530052  0.07685374\n",
      "   1.12742298]\n",
      " [-0.067928    0.43266908  0.4938599   1.99343282 -0.80458898 -0.40958239\n",
      "   0.30279943]\n",
      " [ 0.69113477  0.13747952  0.03530052 -0.80458898  4.34881962  0.84210912\n",
      "   0.43615026]\n",
      " [ 0.15407486  0.47947309  0.07685374 -0.40958239  0.84210912  2.139332\n",
      "   0.11749911]\n",
      " [ 0.4818831   1.13360884  1.12742298  0.30279943  0.43615026  0.11749911\n",
      "   1.61714934]]\n"
     ]
    }
   ],
   "source": [
    "print(calc_cov(ndarray))"
   ]
  },
  {
   "cell_type": "code",
   "execution_count": 21,
   "metadata": {},
   "outputs": [],
   "source": [
    "w = np.array([0.3, 0.2, 0.1, 0.1, 0.1, 0.2, 0])"
   ]
  },
  {
   "cell_type": "code",
   "execution_count": 24,
   "metadata": {},
   "outputs": [],
   "source": [
    "def port_mean(ndarray, w):\n",
    "    mean=w.dot(calc_mean(ndarray))\n",
    "    return mean\n",
    "\n",
    "def port_std(ndarray, w):\n",
    "    std=np.sqrt(w.dot(calc_cov(ndarray)).dot(w))\n",
    "    return std"
   ]
  },
  {
   "cell_type": "code",
   "execution_count": 25,
   "metadata": {},
   "outputs": [
    {
     "name": "stdout",
     "output_type": "stream",
     "text": [
      "MEAN : 0.08878571428571427\n",
      "STD  : 0.8744739013434357\n"
     ]
    }
   ],
   "source": [
    "print('MEAN : ' + str(port_mean(ndarray, w)))\n",
    "print('STD  : ' + str(port_std(ndarray, w)))"
   ]
  },
  {
   "cell_type": "code",
   "execution_count": null,
   "metadata": {},
   "outputs": [],
   "source": []
  }
 ],
 "metadata": {
  "kernelspec": {
   "display_name": "Python 3",
   "language": "python",
   "name": "python3"
  },
  "language_info": {
   "codemirror_mode": {
    "name": "ipython",
    "version": 3
   },
   "file_extension": ".py",
   "mimetype": "text/x-python",
   "name": "python",
   "nbconvert_exporter": "python",
   "pygments_lexer": "ipython3",
   "version": "3.6.4"
  }
 },
 "nbformat": 4,
 "nbformat_minor": 2
}
